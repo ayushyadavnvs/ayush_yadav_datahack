{
 "cells": [
  {
   "cell_type": "code",
   "execution_count": 4,
   "id": "a31a02d9-6ebb-41ff-b218-aaccb36ae8bd",
   "metadata": {},
   "outputs": [],
   "source": [
    "import numpy as np\n",
    "import pandas as pd\n",
    "import seaborn as sns"
   ]
  },
  {
   "cell_type": "code",
   "execution_count": 6,
   "id": "1a45444d-1b09-4e18-ad18-5591bfbabfd9",
   "metadata": {},
   "outputs": [],
   "source": [
    "x = pd.read_csv('/Users/okayush/Downloads/dataset and all/training_set_features.csv')\n",
    "xtest=pd.read_csv('/Users/okayush/Downloads/dataset and all/test_set_features.csv')\n",
    "\n"
   ]
  },
  {
   "cell_type": "code",
   "execution_count": 8,
   "id": "62579327-8bf7-4841-a5ba-0910a2fe5ca6",
   "metadata": {},
   "outputs": [
    {
     "data": {
      "text/plain": [
       "respondent_id                   0.000000\n",
       "xyz_concern                     0.344479\n",
       "xyz_knowledge                   0.434343\n",
       "behavioral_antiviral_meds       0.265848\n",
       "behavioral_avoidance            0.778822\n",
       "behavioral_face_mask            0.071142\n",
       "behavioral_wash_hands           0.157262\n",
       "behavioral_large_gatherings     0.325757\n",
       "behavioral_outside_home         0.307036\n",
       "behavioral_touch_face           0.479275\n",
       "doctor_recc_xyz                 8.087767\n",
       "doctor_recc_seasonal            8.087767\n",
       "chronic_med_condition           3.635751\n",
       "child_under_6_months            3.070356\n",
       "health_worker                   3.010447\n",
       "health_insurance               45.957989\n",
       "opinion_xyz_vacc_effective      1.464036\n",
       "opinion_xyz_risk                1.452803\n",
       "opinion_xyz_sick_from_vacc      1.479013\n",
       "opinion_seas_vacc_effective     1.729884\n",
       "opinion_seas_risk               1.924589\n",
       "opinion_seas_sick_from_vacc     2.010709\n",
       "age_group                       0.000000\n",
       "education                       5.268282\n",
       "race                            0.000000\n",
       "sex                             0.000000\n",
       "income_poverty                 16.561201\n",
       "marital_status                  5.272026\n",
       "rent_or_own                     7.645936\n",
       "employment_status               5.477965\n",
       "hhs_geo_region                  0.000000\n",
       "census_msa                      0.000000\n",
       "household_adults                0.932340\n",
       "household_children              0.932340\n",
       "employment_industry            49.912008\n",
       "employment_occupation          50.436215\n",
       "dtype: float64"
      ]
     },
     "execution_count": 8,
     "metadata": {},
     "output_type": "execute_result"
    }
   ],
   "source": [
    "x.isnull().mean()*100"
   ]
  },
  {
   "cell_type": "code",
   "execution_count": 10,
   "id": "1a1fb165-8092-4530-9dc1-db65ea9f50b5",
   "metadata": {},
   "outputs": [
    {
     "data": {
      "text/plain": [
       "(26708, 36)"
      ]
     },
     "execution_count": 10,
     "metadata": {},
     "output_type": "execute_result"
    }
   ],
   "source": [
    "xtest.shape"
   ]
  },
  {
   "cell_type": "code",
   "execution_count": 12,
   "id": "5c4a0c6d-9d48-4db7-ac6f-e6ff87bd1afa",
   "metadata": {},
   "outputs": [
    {
     "data": {
      "text/plain": [
       "respondent_id                  0.000000\n",
       "xyz_concern                    0.003183\n",
       "xyz_knowledge                  0.004568\n",
       "behavioral_antiviral_meds      0.002958\n",
       "behavioral_avoidance           0.007975\n",
       "behavioral_face_mask           0.000711\n",
       "behavioral_wash_hands          0.001498\n",
       "behavioral_large_gatherings    0.002696\n",
       "behavioral_outside_home        0.003070\n",
       "behavioral_touch_face          0.004793\n",
       "doctor_recc_xyz                0.080875\n",
       "doctor_recc_seasonal           0.080875\n",
       "chronic_med_condition          0.034896\n",
       "child_under_6_months           0.030440\n",
       "health_worker                  0.029542\n",
       "health_insurance               0.457840\n",
       "opinion_xyz_vacc_effective     0.014902\n",
       "opinion_xyz_risk               0.014228\n",
       "opinion_xyz_sick_from_vacc     0.014041\n",
       "opinion_seas_vacc_effective    0.016924\n",
       "opinion_seas_risk              0.018684\n",
       "opinion_seas_sick_from_vacc    0.019507\n",
       "age_group                      0.000000\n",
       "education                      0.052681\n",
       "race                           0.000000\n",
       "sex                            0.000000\n",
       "income_poverty                 0.168377\n",
       "marital_status                 0.053991\n",
       "rent_or_own                    0.076232\n",
       "employment_status              0.055077\n",
       "hhs_geo_region                 0.000000\n",
       "census_msa                     0.000000\n",
       "household_adults               0.008424\n",
       "household_children             0.008424\n",
       "employment_industry            0.497042\n",
       "employment_occupation          0.502696\n",
       "dtype: float64"
      ]
     },
     "execution_count": 12,
     "metadata": {},
     "output_type": "execute_result"
    }
   ],
   "source": [
    "xtest.isnull().mean()"
   ]
  },
  {
   "cell_type": "code",
   "execution_count": 14,
   "id": "12fe81ee-10b5-43ae-9156-ad50e1a5f0e1",
   "metadata": {},
   "outputs": [],
   "source": [
    "x.drop(['employment_industry','employment_occupation','hhs_geo_region','census_msa','health_insurance','education',\n",
    "              'income_poverty','marital_status','rent_or_own','employment_status',],axis=1,inplace = True)\n",
    "xtest.drop(['employment_industry','employment_occupation','hhs_geo_region','census_msa','health_insurance','education',\n",
    "              'income_poverty','marital_status','rent_or_own','employment_status',],axis=1,inplace = True)"
   ]
  },
  {
   "cell_type": "code",
   "execution_count": 16,
   "id": "69812100-7c63-4d36-882c-e48d94485f95",
   "metadata": {},
   "outputs": [],
   "source": [
    "xtest.drop(['respondent_id'],axis=1,inplace = True)"
   ]
  },
  {
   "cell_type": "code",
   "execution_count": 18,
   "id": "33255088-c19e-4858-8795-0fb2022e7793",
   "metadata": {},
   "outputs": [],
   "source": [
    "x.drop(['respondent_id'],axis=1,inplace = True)"
   ]
  },
  {
   "cell_type": "code",
   "execution_count": 20,
   "id": "1ab457e0-ec10-49a9-8f43-d2ea707ca15c",
   "metadata": {},
   "outputs": [],
   "source": [
    "from sklearn.compose import ColumnTransformer\n",
    "from sklearn.impute import SimpleImputer\n",
    "from sklearn.preprocessing import OneHotEncoder\n",
    "\n",
    "from sklearn.preprocessing import OrdinalEncoder"
   ]
  },
  {
   "cell_type": "code",
   "execution_count": 22,
   "id": "995d1661-b189-44c0-aa3b-027075dad3f5",
   "metadata": {},
   "outputs": [],
   "source": [
    "ordinal_order = ['18 - 34 Years','35 - 44 Years','45 - 54 Years','55 - 64 Years','65+ Years']\n",
    "\n",
    "# Initialize ColumnTransformer \n",
    "preprocessor = ColumnTransformer(\n",
    "    transformers=[\n",
    "        ('freq_imputer', SimpleImputer(strategy='most_frequent'), [0,1,2,3,4,5,6,7,8,9,10,11,12,13,14,15,16,17,18,19,23,24]),  # Impute ordinal and nominal columns with most frequent value\n",
    "        ('ordinal_encoder', OrdinalEncoder(categories=[ordinal_order]), ['age_group']),  # Ordinal encoding for ordinal column\n",
    "        ('onehot_encoder', OneHotEncoder(drop='first',sparse=False,dtype=np.int32), ['race','sex'])  # One-hot encoding for nominal column\n",
    "    ],\n",
    "    remainder='passthrough')"
   ]
  },
  {
   "cell_type": "code",
   "execution_count": 24,
   "id": "eec24414-8697-4d28-b9cf-c64ebfaaac74",
   "metadata": {},
   "outputs": [
    {
     "name": "stderr",
     "output_type": "stream",
     "text": [
      "/opt/anaconda3/lib/python3.11/site-packages/sklearn/preprocessing/_encoders.py:868: FutureWarning: `sparse` was renamed to `sparse_output` in version 1.2 and will be removed in 1.4. `sparse_output` is ignored unless you leave `sparse` to its default value.\n",
      "  warnings.warn(\n"
     ]
    }
   ],
   "source": [
    "x_new = preprocessor.fit_transform(x)"
   ]
  },
  {
   "cell_type": "code",
   "execution_count": 26,
   "id": "9ed5b2eb-b220-4493-b309-544f2cc396ff",
   "metadata": {},
   "outputs": [],
   "source": [
    "xtest_new = preprocessor.transform(xtest)"
   ]
  },
  {
   "cell_type": "code",
   "execution_count": 28,
   "id": "96fbd018-279b-4e8a-861a-00c2f15af413",
   "metadata": {},
   "outputs": [
    {
     "data": {
      "text/plain": [
       "(26708, 27)"
      ]
     },
     "execution_count": 28,
     "metadata": {},
     "output_type": "execute_result"
    }
   ],
   "source": [
    "xtest_new.shape"
   ]
  },
  {
   "cell_type": "code",
   "execution_count": 30,
   "id": "b370a0a0-b1b9-4b66-a5cd-f8dd3f008f8a",
   "metadata": {},
   "outputs": [],
   "source": [
    "xtest_new = pd.DataFrame(xtest_new)"
   ]
  },
  {
   "cell_type": "code",
   "execution_count": 32,
   "id": "41a81432-8321-486d-b99e-699929771364",
   "metadata": {},
   "outputs": [],
   "source": [
    "x_new = pd.DataFrame(x_new)"
   ]
  },
  {
   "cell_type": "code",
   "execution_count": 36,
   "id": "5b6f04aa-8c1a-43ec-a531-5ea59a0ff034",
   "metadata": {},
   "outputs": [
    {
     "data": {
      "text/html": [
       "<div>\n",
       "<style scoped>\n",
       "    .dataframe tbody tr th:only-of-type {\n",
       "        vertical-align: middle;\n",
       "    }\n",
       "\n",
       "    .dataframe tbody tr th {\n",
       "        vertical-align: top;\n",
       "    }\n",
       "\n",
       "    .dataframe thead th {\n",
       "        text-align: right;\n",
       "    }\n",
       "</style>\n",
       "<table border=\"1\" class=\"dataframe\">\n",
       "  <thead>\n",
       "    <tr style=\"text-align: right;\">\n",
       "      <th></th>\n",
       "      <th>0</th>\n",
       "      <th>1</th>\n",
       "      <th>2</th>\n",
       "      <th>3</th>\n",
       "      <th>4</th>\n",
       "      <th>5</th>\n",
       "      <th>6</th>\n",
       "      <th>7</th>\n",
       "      <th>8</th>\n",
       "      <th>9</th>\n",
       "      <th>...</th>\n",
       "      <th>17</th>\n",
       "      <th>18</th>\n",
       "      <th>19</th>\n",
       "      <th>20</th>\n",
       "      <th>21</th>\n",
       "      <th>22</th>\n",
       "      <th>23</th>\n",
       "      <th>24</th>\n",
       "      <th>25</th>\n",
       "      <th>26</th>\n",
       "    </tr>\n",
       "  </thead>\n",
       "  <tbody>\n",
       "    <tr>\n",
       "      <th>0</th>\n",
       "      <td>2.0</td>\n",
       "      <td>2.0</td>\n",
       "      <td>0.0</td>\n",
       "      <td>1.0</td>\n",
       "      <td>0.0</td>\n",
       "      <td>1.0</td>\n",
       "      <td>1.0</td>\n",
       "      <td>0.0</td>\n",
       "      <td>1.0</td>\n",
       "      <td>0.0</td>\n",
       "      <td>...</td>\n",
       "      <td>5.0</td>\n",
       "      <td>1.0</td>\n",
       "      <td>1.0</td>\n",
       "      <td>1.0</td>\n",
       "      <td>0.0</td>\n",
       "      <td>1.0</td>\n",
       "      <td>1.0</td>\n",
       "      <td>0.0</td>\n",
       "      <td>0.0</td>\n",
       "      <td>0.0</td>\n",
       "    </tr>\n",
       "    <tr>\n",
       "      <th>1</th>\n",
       "      <td>1.0</td>\n",
       "      <td>1.0</td>\n",
       "      <td>0.0</td>\n",
       "      <td>0.0</td>\n",
       "      <td>0.0</td>\n",
       "      <td>0.0</td>\n",
       "      <td>0.0</td>\n",
       "      <td>0.0</td>\n",
       "      <td>0.0</td>\n",
       "      <td>0.0</td>\n",
       "      <td>...</td>\n",
       "      <td>4.0</td>\n",
       "      <td>1.0</td>\n",
       "      <td>1.0</td>\n",
       "      <td>3.0</td>\n",
       "      <td>0.0</td>\n",
       "      <td>0.0</td>\n",
       "      <td>0.0</td>\n",
       "      <td>0.0</td>\n",
       "      <td>1.0</td>\n",
       "      <td>1.0</td>\n",
       "    </tr>\n",
       "    <tr>\n",
       "      <th>2</th>\n",
       "      <td>2.0</td>\n",
       "      <td>2.0</td>\n",
       "      <td>0.0</td>\n",
       "      <td>0.0</td>\n",
       "      <td>1.0</td>\n",
       "      <td>1.0</td>\n",
       "      <td>1.0</td>\n",
       "      <td>1.0</td>\n",
       "      <td>1.0</td>\n",
       "      <td>0.0</td>\n",
       "      <td>...</td>\n",
       "      <td>5.0</td>\n",
       "      <td>4.0</td>\n",
       "      <td>4.0</td>\n",
       "      <td>1.0</td>\n",
       "      <td>0.0</td>\n",
       "      <td>3.0</td>\n",
       "      <td>0.0</td>\n",
       "      <td>0.0</td>\n",
       "      <td>1.0</td>\n",
       "      <td>1.0</td>\n",
       "    </tr>\n",
       "    <tr>\n",
       "      <th>3</th>\n",
       "      <td>1.0</td>\n",
       "      <td>1.0</td>\n",
       "      <td>0.0</td>\n",
       "      <td>0.0</td>\n",
       "      <td>0.0</td>\n",
       "      <td>0.0</td>\n",
       "      <td>0.0</td>\n",
       "      <td>0.0</td>\n",
       "      <td>0.0</td>\n",
       "      <td>1.0</td>\n",
       "      <td>...</td>\n",
       "      <td>4.0</td>\n",
       "      <td>4.0</td>\n",
       "      <td>2.0</td>\n",
       "      <td>1.0</td>\n",
       "      <td>0.0</td>\n",
       "      <td>4.0</td>\n",
       "      <td>0.0</td>\n",
       "      <td>0.0</td>\n",
       "      <td>1.0</td>\n",
       "      <td>0.0</td>\n",
       "    </tr>\n",
       "    <tr>\n",
       "      <th>4</th>\n",
       "      <td>3.0</td>\n",
       "      <td>1.0</td>\n",
       "      <td>1.0</td>\n",
       "      <td>1.0</td>\n",
       "      <td>0.0</td>\n",
       "      <td>1.0</td>\n",
       "      <td>1.0</td>\n",
       "      <td>1.0</td>\n",
       "      <td>1.0</td>\n",
       "      <td>0.0</td>\n",
       "      <td>...</td>\n",
       "      <td>4.0</td>\n",
       "      <td>4.0</td>\n",
       "      <td>2.0</td>\n",
       "      <td>0.0</td>\n",
       "      <td>1.0</td>\n",
       "      <td>1.0</td>\n",
       "      <td>0.0</td>\n",
       "      <td>0.0</td>\n",
       "      <td>0.0</td>\n",
       "      <td>0.0</td>\n",
       "    </tr>\n",
       "  </tbody>\n",
       "</table>\n",
       "<p>5 rows × 27 columns</p>\n",
       "</div>"
      ],
      "text/plain": [
       "    0    1    2    3    4    5    6    7    8    9   ...   17   18   19   20  \\\n",
       "0  2.0  2.0  0.0  1.0  0.0  1.0  1.0  0.0  1.0  0.0  ...  5.0  1.0  1.0  1.0   \n",
       "1  1.0  1.0  0.0  0.0  0.0  0.0  0.0  0.0  0.0  0.0  ...  4.0  1.0  1.0  3.0   \n",
       "2  2.0  2.0  0.0  0.0  1.0  1.0  1.0  1.0  1.0  0.0  ...  5.0  4.0  4.0  1.0   \n",
       "3  1.0  1.0  0.0  0.0  0.0  0.0  0.0  0.0  0.0  1.0  ...  4.0  4.0  2.0  1.0   \n",
       "4  3.0  1.0  1.0  1.0  0.0  1.0  1.0  1.0  1.0  0.0  ...  4.0  4.0  2.0  0.0   \n",
       "\n",
       "    21   22   23   24   25   26  \n",
       "0  0.0  1.0  1.0  0.0  0.0  0.0  \n",
       "1  0.0  0.0  0.0  0.0  1.0  1.0  \n",
       "2  0.0  3.0  0.0  0.0  1.0  1.0  \n",
       "3  0.0  4.0  0.0  0.0  1.0  0.0  \n",
       "4  1.0  1.0  0.0  0.0  0.0  0.0  \n",
       "\n",
       "[5 rows x 27 columns]"
      ]
     },
     "execution_count": 36,
     "metadata": {},
     "output_type": "execute_result"
    }
   ],
   "source": [
    "xtest_new.head()\n",
    "\n"
   ]
  },
  {
   "cell_type": "code",
   "execution_count": 38,
   "id": "999d1e6f-b6be-475f-9ec6-de48ae1d371f",
   "metadata": {},
   "outputs": [],
   "source": [
    "ytrain=pd.read_csv('/Users/okayush/Downloads/dataset and all/training_set_labels.csv')"
   ]
  },
  {
   "cell_type": "code",
   "execution_count": 40,
   "id": "00665e05-304a-452c-bcee-d9e8fb4e27c6",
   "metadata": {},
   "outputs": [
    {
     "data": {
      "text/html": [
       "<div>\n",
       "<style scoped>\n",
       "    .dataframe tbody tr th:only-of-type {\n",
       "        vertical-align: middle;\n",
       "    }\n",
       "\n",
       "    .dataframe tbody tr th {\n",
       "        vertical-align: top;\n",
       "    }\n",
       "\n",
       "    .dataframe thead th {\n",
       "        text-align: right;\n",
       "    }\n",
       "</style>\n",
       "<table border=\"1\" class=\"dataframe\">\n",
       "  <thead>\n",
       "    <tr style=\"text-align: right;\">\n",
       "      <th></th>\n",
       "      <th>respondent_id</th>\n",
       "      <th>xyz_vaccine</th>\n",
       "      <th>seasonal_vaccine</th>\n",
       "    </tr>\n",
       "  </thead>\n",
       "  <tbody>\n",
       "    <tr>\n",
       "      <th>0</th>\n",
       "      <td>0</td>\n",
       "      <td>0</td>\n",
       "      <td>0</td>\n",
       "    </tr>\n",
       "    <tr>\n",
       "      <th>1</th>\n",
       "      <td>1</td>\n",
       "      <td>0</td>\n",
       "      <td>1</td>\n",
       "    </tr>\n",
       "    <tr>\n",
       "      <th>2</th>\n",
       "      <td>2</td>\n",
       "      <td>0</td>\n",
       "      <td>0</td>\n",
       "    </tr>\n",
       "    <tr>\n",
       "      <th>3</th>\n",
       "      <td>3</td>\n",
       "      <td>0</td>\n",
       "      <td>1</td>\n",
       "    </tr>\n",
       "    <tr>\n",
       "      <th>4</th>\n",
       "      <td>4</td>\n",
       "      <td>0</td>\n",
       "      <td>0</td>\n",
       "    </tr>\n",
       "  </tbody>\n",
       "</table>\n",
       "</div>"
      ],
      "text/plain": [
       "   respondent_id  xyz_vaccine  seasonal_vaccine\n",
       "0              0            0                 0\n",
       "1              1            0                 1\n",
       "2              2            0                 0\n",
       "3              3            0                 1\n",
       "4              4            0                 0"
      ]
     },
     "execution_count": 40,
     "metadata": {},
     "output_type": "execute_result"
    }
   ],
   "source": [
    "ytrain.head()"
   ]
  },
  {
   "cell_type": "code",
   "execution_count": 42,
   "id": "8d634043-27d4-4954-9120-33294ef2ffa2",
   "metadata": {},
   "outputs": [],
   "source": [
    "submission =  ytrain.copy()"
   ]
  },
  {
   "cell_type": "code",
   "execution_count": 44,
   "id": "ca68c8c0-d345-42e0-a095-1c6dd096e396",
   "metadata": {},
   "outputs": [],
   "source": [
    "y1 = ytrain.iloc[:,0]\n",
    "y2 = ytrain.iloc[:,1]\n"
   ]
  },
  {
   "cell_type": "code",
   "execution_count": 46,
   "id": "7cdf9af0-50ef-451f-ab57-a4e2241ca6fc",
   "metadata": {},
   "outputs": [],
   "source": [
    "from sklearn.model_selection import train_test_split\n",
    "from sklearn.linear_model import LogisticRegression\n",
    "from sklearn.metrics import roc_auc_score, roc_curve, accuracy_score\n",
    "import matplotlib.pyplot as plt"
   ]
  },
  {
   "cell_type": "markdown",
   "id": "97cb27f3-14dc-4877-aa2b-51be6c82f660",
   "metadata": {},
   "source": [
    "## for xyz_vaccine"
   ]
  },
  {
   "cell_type": "code",
   "execution_count": null,
   "id": "1b1b63ba-d9d4-42d6-9980-4e907a17496a",
   "metadata": {},
   "outputs": [],
   "source": [
    "model = LogisticRegression()\n",
    "model.fit(x_new, y1)"
   ]
  },
  {
   "cell_type": "code",
   "execution_count": null,
   "id": "8e98fdac-ae9a-4e11-80e6-c4454e5cb5db",
   "metadata": {},
   "outputs": [],
   "source": [
    "y_prob1 = model.predict_proba(xtest_new)[:, 1]"
   ]
  },
  {
   "cell_type": "code",
   "execution_count": null,
   "id": "039a886d-3821-48b0-8526-c792fc264ac6",
   "metadata": {},
   "outputs": [],
   "source": [
    "y_prob"
   ]
  },
  {
   "cell_type": "code",
   "execution_count": null,
   "id": "d20f3c14-33aa-4d4c-bc1f-a111ad62e5e4",
   "metadata": {},
   "outputs": [],
   "source": [
    "y_pred = model.predict(xtest_new)"
   ]
  },
  {
   "cell_type": "markdown",
   "id": "f397584b-7de8-4b8a-993c-8cfbc18014b6",
   "metadata": {},
   "source": [
    "## for seasonal vaccine"
   ]
  },
  {
   "cell_type": "code",
   "execution_count": null,
   "id": "22e275a4-c961-4d9e-8a87-dfde195867a8",
   "metadata": {},
   "outputs": [],
   "source": [
    "model = LogisticRegression()\n",
    "model.fit(xnew, y2)"
   ]
  },
  {
   "cell_type": "code",
   "execution_count": null,
   "id": "2680f4b1-77b6-488f-829d-7006197197ec",
   "metadata": {},
   "outputs": [],
   "source": [
    "y_prob2 = model.predict_proba(xtest_new)[:, 1]\n"
   ]
  },
  {
   "cell_type": "code",
   "execution_count": null,
   "id": "da73ec5c-f504-4c5b-9946-e41f176d8c02",
   "metadata": {},
   "outputs": [],
   "source": []
  },
  {
   "cell_type": "code",
   "execution_count": null,
   "id": "7cf767dc-34b4-415d-b2f5-fb9519ae3127",
   "metadata": {},
   "outputs": [],
   "source": [
    "# creating the final csv file\n"
   ]
  },
  {
   "cell_type": "code",
   "execution_count": null,
   "id": "1be16aaa-5325-4c84-8410-f71714afef61",
   "metadata": {},
   "outputs": [],
   "source": [
    "submission['xyz_vaccine'] = yprob1"
   ]
  },
  {
   "cell_type": "code",
   "execution_count": null,
   "id": "23802a57-a6bd-48a8-8647-e30773a4044e",
   "metadata": {},
   "outputs": [],
   "source": [
    "submission['seasonal_vaccine'] = yprob2"
   ]
  },
  {
   "cell_type": "code",
   "execution_count": null,
   "id": "5345be91-a238-4f9b-885f-7ad1d849e1d6",
   "metadata": {},
   "outputs": [],
   "source": []
  }
 ],
 "metadata": {
  "kernelspec": {
   "display_name": "Python 3 (ipykernel)",
   "language": "python",
   "name": "python3"
  },
  "language_info": {
   "codemirror_mode": {
    "name": "ipython",
    "version": 3
   },
   "file_extension": ".py",
   "mimetype": "text/x-python",
   "name": "python",
   "nbconvert_exporter": "python",
   "pygments_lexer": "ipython3",
   "version": "3.11.7"
  }
 },
 "nbformat": 4,
 "nbformat_minor": 5
}
